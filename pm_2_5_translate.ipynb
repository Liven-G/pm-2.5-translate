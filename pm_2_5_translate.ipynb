{
  "cells": [
    {
      "cell_type": "markdown",
      "metadata": {
        "id": "view-in-github",
        "colab_type": "text"
      },
      "source": [
        "<a href=\"https://colab.research.google.com/github/Liven-G/pm-2.5-translate/blob/main/pm_2_5_translate.ipynb\" target=\"_parent\"><img src=\"https://colab.research.google.com/assets/colab-badge.svg\" alt=\"Open In Colab\"/></a>"
      ]
    },
    {
      "cell_type": "code",
      "execution_count": null,
      "metadata": {
        "id": "DHuIUmEuV1VN"
      },
      "outputs": [],
      "source": [
        "# Translate to netCDF4\n",
        "import cdsapi\n",
        "import netCDF4\n",
        "from netCDF4 import num2date\n",
        "import numpy as np\n",
        "import os\n",
        "import pandas as pd\n",
        "from cdo import *\n",
        "import cdo as cdo\n",
        "from osgeo import gdal\n",
        "import matplotlib.pyplot as plt\n",
        "import csv"
      ]
    },
    {
      "cell_type": "code",
      "execution_count": null,
      "metadata": {
        "id": "W3A93W3DV1VO",
        "outputId": "159407ee-5f22-480b-ca2b-ef1c6c4c9273"
      },
      "outputs": [
        {
          "name": "stdout",
          "output_type": "stream",
          "text": [
            "/Volumes/Liwen Guo/sdei-global-annual-gwr-pm2-5-modis-misr-seawifs-aod-2010-geotiff\n"
          ]
        }
      ],
      "source": [
        "# Set directory\n",
        "cd \"/Volumes/Liwen Guo/sdei-global-annual-gwr-pm2-5-modis-misr-seawifs-aod-2015-geotiff\""
      ]
    },
    {
      "cell_type": "code",
      "execution_count": null,
      "metadata": {
        "id": "o5VE6OefV1VO"
      },
      "outputs": [],
      "source": [
        "# Assigns output_dir a specific file path\n",
        "output_dir = \"/Volumes/Liwen Guo/sdei-global-annual-gwr-pm2-5-modis-misr-seawifs-aod-2015-geotiff\""
      ]
    },
    {
      "cell_type": "code",
      "execution_count": null,
      "metadata": {
        "id": "fv6wf5caV1VP"
      },
      "outputs": [],
      "source": [
        "# Change the following variables to the file you want to convert (inputfile) and what you want to name your output file (outputfile)\n",
        "inputfile = 'gwr_pm25_2015_Clip1.tif'\n",
        "outputfile = 'gwr_pm25_2015_Clip.nc'"
      ]
    },
    {
      "cell_type": "code",
      "source": [
        "# Convert the geoTIFF to a netCDF\n",
        "ds = gdal.Translate(outputfile, inputfile, format='NetCDF')"
      ],
      "metadata": {
        "id": "g96o4DEsXPo8"
      },
      "execution_count": null,
      "outputs": []
    },
    {
      "cell_type": "code",
      "execution_count": null,
      "metadata": {
        "id": "BW7gT8PGV1VP"
      },
      "outputs": [],
      "source": [
        "# Translate to CSV\n",
        "f = netCDF4.Dataset('gwr_pm25_2015_Clip.nc')"
      ]
    },
    {
      "cell_type": "code",
      "execution_count": null,
      "metadata": {
        "id": "s64DXmChV1VP"
      },
      "outputs": [],
      "source": [
        "# Extract variables\n",
        "lat = f.variables['lat']\n",
        "lon = f.variables['lon']\n",
        "Band1 = f.variables['Band1']"
      ]
    },
    {
      "cell_type": "code",
      "execution_count": null,
      "metadata": {
        "id": "cA-48XL0V1VP"
      },
      "outputs": [],
      "source": [
        "# Get dimensions assuming 2D: latitude, longitude\n",
        "lat_dim, lon_dim = Band1.get_dims()\n",
        "lat = f.variables[lat_dim.name][:]\n",
        "lon = f.variables[lon_dim.name][:]"
      ]
    },
    {
      "cell_type": "code",
      "execution_count": null,
      "metadata": {
        "id": "OQWmEjgWV1VQ",
        "outputId": "d1edcb85-8767-46ad-a2a6-a0134a9403cc"
      },
      "outputs": [
        {
          "name": "stdout",
          "output_type": "stream",
          "text": [
            "Writing data in tabular form to /Volumes/Liwen Guo/sdei-global-annual-gwr-pm2-5-modis-misr-seawifs-aod-2010-geotiff/gwr_pm25_2010_Clip.csv (this may take some time)...\n",
            "Done\n"
          ]
        }
      ],
      "source": [
        "# Write data as a table with several columns: latitude, longitude, values\n",
        "filename = os.path.join(output_dir, 'gwr_pm25_2015_Clip.csv')\n",
        "print(f'Writing data in tabular form to {filename} (this may take some time)...')\n",
        "lat_grid, lon_grid = [\n",
        "    x.flatten() for x in np.meshgrid(lat, lon, indexing='ij')]\n",
        "df = pd.DataFrame({\n",
        "    'lat': lat_grid,\n",
        "    'lon': lon_grid,\n",
        "    'Band1': Band1[:].flatten()})\n",
        "df.to_csv(filename, index=False)\n",
        "print('Done')"
      ]
    }
  ],
  "metadata": {
    "kernelspec": {
      "display_name": "Python 3 (ipykernel)",
      "language": "python",
      "name": "python3"
    },
    "language_info": {
      "codemirror_mode": {
        "name": "ipython",
        "version": 3
      },
      "file_extension": ".py",
      "mimetype": "text/x-python",
      "name": "python",
      "nbconvert_exporter": "python",
      "pygments_lexer": "ipython3",
      "version": "3.9.7"
    },
    "colab": {
      "provenance": [],
      "include_colab_link": true
    }
  },
  "nbformat": 4,
  "nbformat_minor": 0
}